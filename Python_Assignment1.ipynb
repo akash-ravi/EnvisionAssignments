{
  "nbformat": 4,
  "nbformat_minor": 0,
  "metadata": {
    "colab": {
      "name": "Pyhton_Assignment.ipynb",
      "provenance": []
    },
    "kernelspec": {
      "name": "python3",
      "display_name": "Python 3"
    },
    "language_info": {
      "name": "python"
    }
  },
  "cells": [
    {
      "cell_type": "markdown",
      "source": [
        "**Bubble Sort**\n",
        "\n",
        "Sort the following Array using bubble sort.\n",
        "\n",
        "[2,5,1345,34,-213,24,342,0,2,0,122,12]\n",
        "\n",
        "Use functions to implement your code.\n",
        "\n",
        "Hint:\n",
        "[Alogrithm](https://www.tutorialspoint.com/data_structures_algorithms/bubble_sort_algorithm.htm)\n",
        "\n"
      ],
      "metadata": {
        "id": "YIKVf4RJVYtO"
      }
    },
    {
      "cell_type": "code",
      "execution_count": null,
      "metadata": {
        "id": "vOFj7M0IVFSB"
      },
      "outputs": [],
      "source": [
        "#Write your code here"
      ]
    },
    {
      "cell_type": "markdown",
      "source": [
        "Write a program to print the nth fibonacci number using recursion."
      ],
      "metadata": {
        "id": "7o5JB_3kW1g9"
      }
    },
    {
      "cell_type": "code",
      "source": [
        "def fibonacci(n):\n",
        "  #write your code  "
      ],
      "metadata": {
        "id": "Uhhcsy9wXI1O"
      },
      "execution_count": null,
      "outputs": []
    },
    {
      "cell_type": "markdown",
      "source": [
        "Write a program to print the factorial of a number using loops, declare a function. "
      ],
      "metadata": {
        "id": "BwSgPVERVXSU"
      }
    },
    {
      "cell_type": "code",
      "source": [
        "#Write your code here"
      ],
      "metadata": {
        "id": "75zM_akSYZKv"
      },
      "execution_count": null,
      "outputs": []
    },
    {
      "cell_type": "markdown",
      "source": [
        "[Numpy](https://numpy.org/doc/stable/user/whatisnumpy.html)\n",
        "\n",
        "Create a numpy array of integers ((1,20),both inclusive), skiping the second number 1,3,5....\n",
        "\n",
        "Hint: Use np.arange"
      ],
      "metadata": {
        "id": "TeJkjOcxYf8T"
      }
    },
    {
      "cell_type": "code",
      "source": [
        "import numpy as np\n",
        "x = #Write your code here (one line)\n",
        "print(x)"
      ],
      "metadata": {
        "id": "8yrmWSa8dP-b"
      },
      "execution_count": null,
      "outputs": []
    },
    {
      "cell_type": "markdown",
      "source": [
        "Write a function to check if a given string is a pallindrome."
      ],
      "metadata": {
        "id": "juvPAXqxYfGp"
      }
    },
    {
      "cell_type": "code",
      "source": [
        "string = \"radar\"\n",
        "#write your code here"
      ],
      "metadata": {
        "id": "U3iierkmdsVY"
      },
      "execution_count": null,
      "outputs": []
    },
    {
      "cell_type": "markdown",
      "source": [
        "[Matplotlib](https://matplotlib.org/stable/tutorials/introductory/pyplot.html)\n",
        "\n",
        "Plot the graph for: y = 3x + 2\n",
        "\n",
        "Plot the graph for: y = 3(x^2) + 5x + 8\n",
        "\n",
        "Use [np.arange](https://numpy.org/doc/stable/reference/generated/numpy.arange.html) and [np.power](https://numpy.org/doc/stable/reference/generated/numpy.power.html) "
      ],
      "metadata": {
        "id": "tYm5F3YGd72Q"
      }
    },
    {
      "cell_type": "code",
      "source": [
        "#Write code here"
      ],
      "metadata": {
        "id": "UMqfwesvejus"
      },
      "execution_count": null,
      "outputs": []
    },
    {
      "cell_type": "markdown",
      "source": [
        "Implement the [Binary Search](https://www.javatpoint.com/binary-search) alogorithm to search for a given number in a sorted array."
      ],
      "metadata": {
        "id": "hBmrMcdZfWLC"
      }
    },
    {
      "cell_type": "code",
      "source": [
        "arr1 = [1,2,5,6,8,90]\n",
        "key = 5\n",
        "def binarysearch(key,array):\n",
        "  #Write your code here\n",
        "  \n",
        "print(binarysearch(arr1,key))"
      ],
      "metadata": {
        "id": "fz7pP3QdfPtf"
      },
      "execution_count": null,
      "outputs": []
    },
    {
      "cell_type": "markdown",
      "source": [
        "Write a program to sum all the values in the given dictionary."
      ],
      "metadata": {
        "id": "tJ4_924lgGuA"
      }
    },
    {
      "cell_type": "code",
      "source": [
        "dict1 = {1:123,2:67,3:783,\"4\":28,6:42,\"12\":234,89:90}\n",
        "# write your code here\n",
        "\n"
      ],
      "metadata": {
        "id": "VKeZHfL0f7tr"
      },
      "execution_count": null,
      "outputs": []
    },
    {
      "cell_type": "markdown",
      "source": [
        "Write a program to swap two variables using functions."
      ],
      "metadata": {
        "id": "uTyBvxr1h13g"
      }
    },
    {
      "cell_type": "code",
      "source": [
        "num1 = 12\n",
        "num2 = 90\n",
        "\n",
        "def swap(num1,num2):\n",
        "  #write your code here\n",
        "\n",
        "#hint :)\n",
        "\n",
        "print(num1,num2)"
      ],
      "metadata": {
        "id": "WTbgj1h4hecL"
      },
      "execution_count": null,
      "outputs": []
    }
  ]
}